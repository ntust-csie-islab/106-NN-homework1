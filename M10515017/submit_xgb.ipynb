{
 "cells": [
  {
   "cell_type": "code",
   "execution_count": null,
   "metadata": {
    "collapsed": true
   },
   "outputs": [],
   "source": [
    "import pandas as pd\n",
    "import numpy as np"
   ]
  },
  {
   "cell_type": "code",
   "execution_count": null,
   "metadata": {
    "collapsed": true
   },
   "outputs": [],
   "source": [
    "sample = pd.read_csv('/home/yuan/Dropbox/nerual network/predict_20min_avg_travel_time_addWeather.csv')\n",
    "sample = sample.drop(sample.columns[0], axis=1)\n",
    "answer = pd.read_csv('/home/yuan/Dataset/kdd_2017/submission_sample_travelTime.csv')"
   ]
  },
  {
   "cell_type": "code",
   "execution_count": null,
   "metadata": {},
   "outputs": [],
   "source": [
    "sample"
   ]
  },
  {
   "cell_type": "code",
   "execution_count": null,
   "metadata": {
    "collapsed": true
   },
   "outputs": [],
   "source": [
    "sample['extr_time'] = pd.to_datetime(sample['time_window'].apply(lambda x: x.strip('[)').split(',')[0]))\n",
    "sample['hour'] = sample['extr_time'].dt.hour\n",
    "sample['min'] = sample['extr_time'].dt.minute\n",
    "sample['week'] = sample['extr_time'].dt.weekday\n"
   ]
  },
  {
   "cell_type": "code",
   "execution_count": null,
   "metadata": {},
   "outputs": [],
   "source": [
    "sample['trip_type'] = float('NaN')\n",
    "sample['trip_type'][(sample['intersection_id']=='A') & (sample['tollgate_id']==2)] = 0\n",
    "sample['trip_type'][(sample['intersection_id']=='A') & (sample['tollgate_id']==3)] = 1\n",
    "sample['trip_type'][(sample['intersection_id']=='B') & (sample['tollgate_id']==1)] = 2\n",
    "sample['trip_type'][(sample['intersection_id']=='B') & (sample['tollgate_id']==3)] = 3\n",
    "sample['trip_type'][(sample['intersection_id']=='C') & (sample['tollgate_id']==1)] = 4\n",
    "sample['trip_type'][(sample['intersection_id']=='C') & (sample['tollgate_id']==3)] = 5"
   ]
  },
  {
   "cell_type": "code",
   "execution_count": null,
   "metadata": {
    "collapsed": true
   },
   "outputs": [],
   "source": [
    "hr_min = []\n",
    "for row in range(len(sample)):\n",
    "    hr_min.append(str(sample['hour'][row])+'-'+str(sample['min'][row]))\n",
    "    \n",
    "sample['hr_min'] = hr_min    "
   ]
  },
  {
   "cell_type": "code",
   "execution_count": null,
   "metadata": {
    "collapsed": true
   },
   "outputs": [],
   "source": [
    "feature_test = sample[['valuePrecipitation','wind_speed','temperature','rel_humidity','hour','week','trip_type','min']].values"
   ]
  },
  {
   "cell_type": "code",
   "execution_count": null,
   "metadata": {},
   "outputs": [],
   "source": [
    "type(feature_test)"
   ]
  },
  {
   "cell_type": "code",
   "execution_count": null,
   "metadata": {
    "collapsed": true
   },
   "outputs": [],
   "source": [
    "test = pd.read_csv('/home/yuan/Dropbox/nerual network/test1_20min_avg_travel_time_addWeather.csv')\n",
    "test = test.drop(test.columns[0], axis=1)"
   ]
  },
  {
   "cell_type": "code",
   "execution_count": null,
   "metadata": {
    "collapsed": true
   },
   "outputs": [],
   "source": [
    "test['extr_time'] = pd.to_datetime(test['time_window'].apply(lambda x: x.strip('[)').split(',')[0]))\n",
    "test['hour'] = test['extr_time'].dt.hour\n",
    "test['week'] = test['extr_time'].dt.weekday"
   ]
  },
  {
   "cell_type": "code",
   "execution_count": null,
   "metadata": {
    "collapsed": true
   },
   "outputs": [],
   "source": [
    "train = pd.read_csv('/home/yuan/Dropbox/nerual network/training_20min_avg_travel_time_addWeather.csv')\n",
    "train = train.drop(train.columns[0], axis=1)"
   ]
  },
  {
   "cell_type": "code",
   "execution_count": null,
   "metadata": {
    "scrolled": true
   },
   "outputs": [],
   "source": [
    "train"
   ]
  },
  {
   "cell_type": "code",
   "execution_count": null,
   "metadata": {
    "collapsed": true,
    "scrolled": true
   },
   "outputs": [],
   "source": [
    "train['extr_time'] = pd.to_datetime(train['time_window'].apply(lambda x: x.strip('[)').split(',')[0]))\n",
    "train['hour'] = train['extr_time'].dt.hour\n",
    "train['min'] = train['extr_time'].dt.minute\n",
    "train['week'] = train['extr_time'].dt.weekday\n"
   ]
  },
  {
   "cell_type": "code",
   "execution_count": null,
   "metadata": {
    "collapsed": true
   },
   "outputs": [],
   "source": [
    "hr_min = []\n",
    "for row in range(len(train)):\n",
    "    hr_min.append(str(train['hour'][row])+'-'+str(train['min'][row]))\n",
    "    \n",
    "train['hr_min'] = hr_min    "
   ]
  },
  {
   "cell_type": "code",
   "execution_count": null,
   "metadata": {},
   "outputs": [],
   "source": [
    "train['trip_type'] = float('NaN')\n",
    "train['trip_type'][(train['intersection_id']=='A') & (train['tollgate_id']==2)] = 0\n",
    "train['trip_type'][(train['intersection_id']=='A') & (train['tollgate_id']==3)] = 1\n",
    "train['trip_type'][(train['intersection_id']=='B') & (train['tollgate_id']==1)] = 2\n",
    "train['trip_type'][(train['intersection_id']=='B') & (train['tollgate_id']==3)] = 3\n",
    "train['trip_type'][(train['intersection_id']=='C') & (train['tollgate_id']==1)] = 4\n",
    "train['trip_type'][(train['intersection_id']=='C') & (train['tollgate_id']==3)] = 5"
   ]
  },
  {
   "cell_type": "code",
   "execution_count": null,
   "metadata": {},
   "outputs": [],
   "source": [
    "from sklearn.ensemble import RandomForestClassifier\n",
    "from sklearn.cross_validation import cross_val_score\n",
    "from sklearn.cross_validation import train_test_split"
   ]
  },
  {
   "cell_type": "code",
   "execution_count": null,
   "metadata": {
    "collapsed": true
   },
   "outputs": [],
   "source": [
    "import xgboost as xgb"
   ]
  },
  {
   "cell_type": "code",
   "execution_count": null,
   "metadata": {
    "collapsed": true
   },
   "outputs": [],
   "source": [
    "xgb_clf = xgb.XGBClassifier()"
   ]
  },
  {
   "cell_type": "code",
   "execution_count": null,
   "metadata": {
    "collapsed": true
   },
   "outputs": [],
   "source": [
    "feature = train[['valuePrecipitation','wind_speed','temperature','rel_humidity','hour','week','trip_type','min']].values\n",
    "target = train['avg_travel_time'].values"
   ]
  },
  {
   "cell_type": "code",
   "execution_count": null,
   "metadata": {
    "collapsed": true
   },
   "outputs": [],
   "source": [
    "X_train, X_test, y_train, y_test = train_test_split(feature, target, test_size=0.2, random_state=42)"
   ]
  },
  {
   "cell_type": "code",
   "execution_count": null,
   "metadata": {
    "collapsed": true
   },
   "outputs": [],
   "source": [
    "%%time\n",
    "forest = xgb_clf.fit(X_train,y_train)\n"
   ]
  },
  {
   "cell_type": "code",
   "execution_count": null,
   "metadata": {
    "collapsed": true
   },
   "outputs": [],
   "source": [
    "pred_forest = forest.predict(X_test)\n",
    "error = abs(pred_forest - y_test) / y_test\n",
    "error.mean()"
   ]
  },
  {
   "cell_type": "code",
   "execution_count": null,
   "metadata": {},
   "outputs": [],
   "source": [
    "feature.shape"
   ]
  },
  {
   "cell_type": "code",
   "execution_count": null,
   "metadata": {
    "scrolled": true
   },
   "outputs": [],
   "source": [
    "target.shape"
   ]
  },
  {
   "cell_type": "code",
   "execution_count": null,
   "metadata": {
    "collapsed": true
   },
   "outputs": [],
   "source": [
    "train['avg_travel_time'][train['avg_travel_time']>150]"
   ]
  },
  {
   "cell_type": "code",
   "execution_count": null,
   "metadata": {
    "collapsed": true
   },
   "outputs": [],
   "source": [
    "xgb_clf.fit(feature, target)"
   ]
  },
  {
   "cell_type": "code",
   "execution_count": null,
   "metadata": {
    "collapsed": true
   },
   "outputs": [],
   "source": [
    "clf = RandomForestClassifier()\n",
    "my_forest = clf.fit(feature, target)"
   ]
  },
  {
   "cell_type": "code",
   "execution_count": null,
   "metadata": {
    "collapsed": true
   },
   "outputs": [],
   "source": [
    "ans_label = my_forest.predict(feature_test)"
   ]
  },
  {
   "cell_type": "code",
   "execution_count": null,
   "metadata": {
    "collapsed": true
   },
   "outputs": [],
   "source": [
    "answer['avg_travel_time'] = ans_label"
   ]
  },
  {
   "cell_type": "code",
   "execution_count": null,
   "metadata": {
    "collapsed": true
   },
   "outputs": [],
   "source": [
    "answer.to_csv('first_submission.csv',index=None)"
   ]
  },
  {
   "cell_type": "code",
   "execution_count": null,
   "metadata": {
    "collapsed": true
   },
   "outputs": [],
   "source": [
    "my_forest.feature_importances_"
   ]
  },
  {
   "cell_type": "code",
   "execution_count": null,
   "metadata": {
    "collapsed": true
   },
   "outputs": [],
   "source": [
    "X_train, X_test, y_train, y_test = train_test_split(feature, target, test_size=0.2, random_state=42)\n",
    "forest = clf.fit(X_train,y_train)\n",
    "pred_forest = forest.predict(X_test)\n",
    "error = abs(pred_forest - y_test) / y_test\n",
    "error.mean()"
   ]
  },
  {
   "cell_type": "code",
   "execution_count": null,
   "metadata": {
    "collapsed": true,
    "scrolled": true
   },
   "outputs": [],
   "source": [
    "cross_val_score(clf, feature, target, cv=3)"
   ]
  },
  {
   "cell_type": "code",
   "execution_count": null,
   "metadata": {
    "collapsed": true
   },
   "outputs": [],
   "source": [
    "import xgboost as xgb\n"
   ]
  },
  {
   "cell_type": "code",
   "execution_count": null,
   "metadata": {
    "collapsed": true
   },
   "outputs": [],
   "source": [
    "xgb_clf = xgb.XGBClassifier(max_depth=3, n_estimators=300, learning_rate=0.05)"
   ]
  },
  {
   "cell_type": "code",
   "execution_count": null,
   "metadata": {
    "collapsed": true
   },
   "outputs": [],
   "source": [
    "gbm = xgb_clf.fit(feature, target)"
   ]
  }
 ],
 "metadata": {
  "kernelspec": {
   "display_name": "Python 2",
   "language": "python",
   "name": "python2"
  },
  "language_info": {
   "codemirror_mode": {
    "name": "ipython",
    "version": 2
   },
   "file_extension": ".py",
   "mimetype": "text/x-python",
   "name": "python",
   "nbconvert_exporter": "python",
   "pygments_lexer": "ipython2",
   "version": "2.7.13"
  }
 },
 "nbformat": 4,
 "nbformat_minor": 2
}
