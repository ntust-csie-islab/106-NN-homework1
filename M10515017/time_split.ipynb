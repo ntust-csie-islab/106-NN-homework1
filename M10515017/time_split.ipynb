{
 "cells": [
  {
   "cell_type": "code",
   "execution_count": 1,
   "metadata": {
    "collapsed": false,
    "deletable": true,
    "editable": true
   },
   "outputs": [],
   "source": [
    "import pandas as pd\n",
    "import math\n",
    "from datetime import datetime"
   ]
  },
  {
   "cell_type": "code",
   "execution_count": 2,
   "metadata": {
    "collapsed": true,
    "deletable": true,
    "editable": true
   },
   "outputs": [],
   "source": [
    "df = pd.read_csv('/home/yuan/Dataset/kdd_2017/training/trajectories(table 5)_training.csv')"
   ]
  },
  {
   "cell_type": "code",
   "execution_count": 3,
   "metadata": {
    "collapsed": true,
    "deletable": true,
    "editable": true
   },
   "outputs": [],
   "source": [
    "df['starting_time'] = pd.to_datetime(df['starting_time'])"
   ]
  },
  {
   "cell_type": "code",
   "execution_count": 4,
   "metadata": {
    "collapsed": false,
    "deletable": true,
    "editable": true
   },
   "outputs": [
    {
     "data": {
      "text/html": [
       "<div>\n",
       "<table border=\"1\" class=\"dataframe\">\n",
       "  <thead>\n",
       "    <tr style=\"text-align: right;\">\n",
       "      <th></th>\n",
       "      <th>intersection_id</th>\n",
       "      <th>tollgate_id</th>\n",
       "      <th>vehicle_id</th>\n",
       "      <th>starting_time</th>\n",
       "      <th>travel_seq</th>\n",
       "      <th>travel_time</th>\n",
       "    </tr>\n",
       "  </thead>\n",
       "  <tbody>\n",
       "    <tr>\n",
       "      <th>0</th>\n",
       "      <td>B</td>\n",
       "      <td>3</td>\n",
       "      <td>1065642</td>\n",
       "      <td>2016-07-19 00:14:24</td>\n",
       "      <td>105#2016-07-19 00:14:24#9.56;100#2016-07-19 00...</td>\n",
       "      <td>70.85</td>\n",
       "    </tr>\n",
       "    <tr>\n",
       "      <th>1</th>\n",
       "      <td>B</td>\n",
       "      <td>3</td>\n",
       "      <td>1047198</td>\n",
       "      <td>2016-07-19 00:35:56</td>\n",
       "      <td>105#2016-07-19 00:35:56#11.58;100#2016-07-19 0...</td>\n",
       "      <td>148.79</td>\n",
       "    </tr>\n",
       "    <tr>\n",
       "      <th>2</th>\n",
       "      <td>B</td>\n",
       "      <td>1</td>\n",
       "      <td>1086390</td>\n",
       "      <td>2016-07-19 00:37:15</td>\n",
       "      <td>105#2016-07-19 00:37:15#5.26;100#2016-07-19 00...</td>\n",
       "      <td>79.76</td>\n",
       "    </tr>\n",
       "    <tr>\n",
       "      <th>3</th>\n",
       "      <td>A</td>\n",
       "      <td>2</td>\n",
       "      <td>1071181</td>\n",
       "      <td>2016-07-19 00:37:59</td>\n",
       "      <td>110#2016-07-19 00:37:59#13.74;123#2016-07-19 0...</td>\n",
       "      <td>58.05</td>\n",
       "    </tr>\n",
       "    <tr>\n",
       "      <th>4</th>\n",
       "      <td>B</td>\n",
       "      <td>1</td>\n",
       "      <td>1065807</td>\n",
       "      <td>2016-07-19 00:56:21</td>\n",
       "      <td>105#2016-07-19 00:56:21#16.08;100#2016-07-19 0...</td>\n",
       "      <td>137.98</td>\n",
       "    </tr>\n",
       "    <tr>\n",
       "      <th>5</th>\n",
       "      <td>C</td>\n",
       "      <td>3</td>\n",
       "      <td>1072812</td>\n",
       "      <td>2016-07-19 00:56:31</td>\n",
       "      <td>115#2016-07-19 00:56:31#10.97;102#2016-07-19 0...</td>\n",
       "      <td>113.54</td>\n",
       "    </tr>\n",
       "    <tr>\n",
       "      <th>6</th>\n",
       "      <td>B</td>\n",
       "      <td>1</td>\n",
       "      <td>1014648</td>\n",
       "      <td>2016-07-19 01:26:03</td>\n",
       "      <td>105#2016-07-19 01:26:03#16.85;100#2016-07-19 0...</td>\n",
       "      <td>176.70</td>\n",
       "    </tr>\n",
       "    <tr>\n",
       "      <th>7</th>\n",
       "      <td>A</td>\n",
       "      <td>2</td>\n",
       "      <td>1063919</td>\n",
       "      <td>2016-07-19 01:36:04</td>\n",
       "      <td>110#2016-07-19 01:36:04#10.39;123#2016-07-19 0...</td>\n",
       "      <td>74.47</td>\n",
       "    </tr>\n",
       "    <tr>\n",
       "      <th>8</th>\n",
       "      <td>A</td>\n",
       "      <td>3</td>\n",
       "      <td>1064408</td>\n",
       "      <td>2016-07-19 01:36:20</td>\n",
       "      <td>110#2016-07-19 01:36:20#8.58;123#2016-07-19 01...</td>\n",
       "      <td>94.57</td>\n",
       "    </tr>\n",
       "    <tr>\n",
       "      <th>9</th>\n",
       "      <td>C</td>\n",
       "      <td>1</td>\n",
       "      <td>1056529</td>\n",
       "      <td>2016-07-19 01:36:28</td>\n",
       "      <td>115#2016-07-19 01:36:28#9.50;102#2016-07-19 01...</td>\n",
       "      <td>214.87</td>\n",
       "    </tr>\n",
       "  </tbody>\n",
       "</table>\n",
       "</div>"
      ],
      "text/plain": [
       "  intersection_id  tollgate_id  vehicle_id       starting_time  \\\n",
       "0               B            3     1065642 2016-07-19 00:14:24   \n",
       "1               B            3     1047198 2016-07-19 00:35:56   \n",
       "2               B            1     1086390 2016-07-19 00:37:15   \n",
       "3               A            2     1071181 2016-07-19 00:37:59   \n",
       "4               B            1     1065807 2016-07-19 00:56:21   \n",
       "5               C            3     1072812 2016-07-19 00:56:31   \n",
       "6               B            1     1014648 2016-07-19 01:26:03   \n",
       "7               A            2     1063919 2016-07-19 01:36:04   \n",
       "8               A            3     1064408 2016-07-19 01:36:20   \n",
       "9               C            1     1056529 2016-07-19 01:36:28   \n",
       "\n",
       "                                          travel_seq  travel_time  \n",
       "0  105#2016-07-19 00:14:24#9.56;100#2016-07-19 00...        70.85  \n",
       "1  105#2016-07-19 00:35:56#11.58;100#2016-07-19 0...       148.79  \n",
       "2  105#2016-07-19 00:37:15#5.26;100#2016-07-19 00...        79.76  \n",
       "3  110#2016-07-19 00:37:59#13.74;123#2016-07-19 0...        58.05  \n",
       "4  105#2016-07-19 00:56:21#16.08;100#2016-07-19 0...       137.98  \n",
       "5  115#2016-07-19 00:56:31#10.97;102#2016-07-19 0...       113.54  \n",
       "6  105#2016-07-19 01:26:03#16.85;100#2016-07-19 0...       176.70  \n",
       "7  110#2016-07-19 01:36:04#10.39;123#2016-07-19 0...        74.47  \n",
       "8  110#2016-07-19 01:36:20#8.58;123#2016-07-19 01...        94.57  \n",
       "9  115#2016-07-19 01:36:28#9.50;102#2016-07-19 01...       214.87  "
      ]
     },
     "execution_count": 4,
     "metadata": {},
     "output_type": "execute_result"
    }
   ],
   "source": [
    "df[:10]"
   ]
  },
  {
   "cell_type": "code",
   "execution_count": 8,
   "metadata": {
    "collapsed": false,
    "deletable": true,
    "editable": true,
    "scrolled": true
   },
   "outputs": [],
   "source": [
    "#create dictionary travel time to average time in the same time slice\n",
    "travel_times = {}\n",
    "for row in range(len(df)):\n",
    "    route_id = df['intersection_id'][row] + '-' + str(df['tollgate_id'][row])\n",
    "    #create key example(A-2)\n",
    "    if route_id not in travel_times.keys():\n",
    "        travel_times[route_id] = {}\n",
    "    \n",
    "    trace_start_time = df['starting_time'][row]\n",
    "    time_window_minute = int(math.floor(trace_start_time.minute / 20) * 20)\n",
    "    start_time_window = datetime(trace_start_time.year, trace_start_time.month, trace_start_time.day, \\\n",
    "                                trace_start_time.hour, time_window_minute, 0)\n",
    "    \n",
    "    tt = float(df['travel_time'][row])\n",
    "    \n",
    "    \n",
    "    if start_time_window not in travel_times[route_id].keys():\n",
    "        travel_times[route_id][start_time_window] = [tt]\n",
    "    else :\n",
    "        travel_times[route_id][start_time_window].append(tt)\n",
    "        \n",
    "    \n",
    "    #print start_time_window"
   ]
  },
  {
   "cell_type": "code",
   "execution_count": 6,
   "metadata": {
    "collapsed": false,
    "deletable": true,
    "editable": true
   },
   "outputs": [
    {
     "data": {
      "text/plain": [
       "{'A-2': {datetime.datetime(2016, 7, 19, 0, 20): [58.05],\n",
       "  datetime.datetime(2016, 7, 19, 1, 20): [74.47, 39.27],\n",
       "  datetime.datetime(2016, 7, 19, 1, 40): [35.37999999999999, 130.43, 67.41],\n",
       "  datetime.datetime(2016, 7, 19, 2, 20): [42.64],\n",
       "  datetime.datetime(2016, 7, 19, 2, 40): [29.15, 40.12000000000001, 51.25],\n",
       "  datetime.datetime(2016, 7, 19, 3, 20): [44.29, 39.55],\n",
       "  datetime.datetime(2016, 7, 19, 3, 40): [23.03, 39.54, 55.72],\n",
       "  datetime.datetime(2016, 7, 19, 4, 0): [50.79, 50.79, 42.81],\n",
       "  datetime.datetime(2016, 7, 19, 4, 20): [86.42,\n",
       "   72.19,\n",
       "   57.58,\n",
       "   64.14,\n",
       "   48.97,\n",
       "   43.34],\n",
       "  datetime.datetime(2016, 7, 19, 4, 40): [45.59, 46.64],\n",
       "  datetime.datetime(2016, 7, 19, 5, 0): [36.61, 64.88, 53.12, 46.73, 46.44],\n",
       "  datetime.datetime(2016, 7, 19, 5, 20): [40.63,\n",
       "   32.47,\n",
       "   55.35,\n",
       "   51.0,\n",
       "   61.06,\n",
       "   52.3,\n",
       "   91.07],\n",
       "  datetime.datetime(2016, 7, 19, 5, 40): [59.29,\n",
       "   83.67,\n",
       "   66.82,\n",
       "   66.92,\n",
       "   46.22,\n",
       "   37.74,\n",
       "   45.93],\n",
       "  datetime.datetime(2016, 7, 19, 6, 0): [59.57, 36.08, 59.08, 54.11, 22.94],\n",
       "  datetime.datetime(2016, 7, 19, 6, 20): [26.51, 47.98, 61.03, 61.8]},\n",
       " 'A-3': {datetime.datetime(2016, 7, 19, 1, 20): [94.57],\n",
       "  datetime.datetime(2016, 7, 19, 2, 20): [72.12, 83.1],\n",
       "  datetime.datetime(2016, 7, 19, 3, 0): [93.09],\n",
       "  datetime.datetime(2016, 7, 19, 4, 40): [108.78, 96.05, 70.0],\n",
       "  datetime.datetime(2016, 7, 19, 5, 20): [168.36],\n",
       "  datetime.datetime(2016, 7, 19, 6, 0): [86.23, 163.09],\n",
       "  datetime.datetime(2016, 7, 19, 6, 20): [79.84, 91.64, 99.34]},\n",
       " 'B-1': {datetime.datetime(2016, 7, 19, 0, 20): [79.76],\n",
       "  datetime.datetime(2016, 7, 19, 0, 40): [137.98],\n",
       "  datetime.datetime(2016, 7, 19, 1, 20): [176.7],\n",
       "  datetime.datetime(2016, 7, 19, 4, 20): [94.06],\n",
       "  datetime.datetime(2016, 7, 19, 5, 20): [66.98],\n",
       "  datetime.datetime(2016, 7, 19, 5, 40): [87.83],\n",
       "  datetime.datetime(2016, 7, 19, 6, 0): [170.09]},\n",
       " 'B-3': {datetime.datetime(2016, 7, 19, 0, 0): [70.85],\n",
       "  datetime.datetime(2016, 7, 19, 0, 20): [148.79000000000005],\n",
       "  datetime.datetime(2016, 7, 19, 1, 40): [86.07, 101.37],\n",
       "  datetime.datetime(2016, 7, 19, 2, 0): [67.81],\n",
       "  datetime.datetime(2016, 7, 19, 2, 40): [142.32, 192.77],\n",
       "  datetime.datetime(2016, 7, 19, 3, 40): [82.65,\n",
       "   101.53,\n",
       "   88.75999999999998,\n",
       "   121.02],\n",
       "  datetime.datetime(2016, 7, 19, 4, 0): [91.01, 102.33],\n",
       "  datetime.datetime(2016, 7, 19, 4, 20): [53.15],\n",
       "  datetime.datetime(2016, 7, 19, 4, 40): [62.09, 48.4],\n",
       "  datetime.datetime(2016, 7, 19, 5, 0): [209.66],\n",
       "  datetime.datetime(2016, 7, 19, 6, 0): [145.94],\n",
       "  datetime.datetime(2016, 7, 19, 6, 20): [127.35]},\n",
       " 'C-1': {datetime.datetime(2016, 7, 19, 1, 20): [214.87],\n",
       "  datetime.datetime(2016, 7, 19, 1, 40): [189.77, 131.5],\n",
       "  datetime.datetime(2016, 7, 19, 4, 40): [187.3],\n",
       "  datetime.datetime(2016, 7, 19, 6, 0): [160.38]},\n",
       " 'C-3': {datetime.datetime(2016, 7, 19, 0, 40): [113.54],\n",
       "  datetime.datetime(2016, 7, 19, 6, 20): [161.74]}}"
      ]
     },
     "execution_count": 6,
     "metadata": {},
     "output_type": "execute_result"
    }
   ],
   "source": [
    "travel_times"
   ]
  },
  {
   "cell_type": "code",
   "execution_count": 7,
   "metadata": {
    "collapsed": false,
    "deletable": true,
    "editable": true
   },
   "outputs": [
    {
     "data": {
      "text/plain": [
       "[58.05]"
      ]
     },
     "execution_count": 7,
     "metadata": {},
     "output_type": "execute_result"
    }
   ],
   "source": [
    "travel_times['A-2'][datetime(2016, 7, 19, 0, 20)]"
   ]
  }
 ],
 "metadata": {
  "kernelspec": {
   "display_name": "Python 2",
   "language": "python",
   "name": "python2"
  },
  "language_info": {
   "codemirror_mode": {
    "name": "ipython",
    "version": 2
   },
   "file_extension": ".py",
   "mimetype": "text/x-python",
   "name": "python",
   "nbconvert_exporter": "python",
   "pygments_lexer": "ipython2",
   "version": "2.7.13"
  }
 },
 "nbformat": 4,
 "nbformat_minor": 2
}
